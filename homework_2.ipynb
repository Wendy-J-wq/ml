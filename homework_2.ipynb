{
 "cells": [
  {
   "cell_type": "markdown",
   "metadata": {
    "cell_style": "center",
    "slideshow": {
     "slide_type": "-"
    }
   },
   "source": [
    "<h1>\n",
    "<center>CFRM 421/521, Spring 2022</center>\n",
    "</h1>\n",
    "\n",
    "<h1>\n",
    "<center>Wendy Jiang</center>\n",
    "</h1>\n",
    "\n",
    "<h1>\n",
    "<center>Homework 2</center>\n",
    "</h1>\n",
    "\n",
    "* **Due: Monday, May 2, 2022, 11:59 PM**\n",
    "\n",
    "\n",
    "* Total marks: 41\n",
    "\n",
    "\n",
    "* Late submissions are allowed, but a 20% penalty per day applies. Your last submission is considered for calculating the penalty.\n",
    "\n",
    "\n",
    "*  Use this Jupyter notebook as a template for your solutions. **Your solution must be submitted as one Jupyter notebook on Canvas and one PDF file on Gradescope.** The notebook must be already run, that is, make sure that you have run all your code, save the notebook, and then when you reopen the notebook, checked that all output appears as expected. You are allowed to use code from the textbook, textbook website, or lecture notes."
   ]
  },
  {
   "cell_type": "markdown",
   "metadata": {},
   "source": [
    "# 1. Random forest for time series data [13 marks]\n",
    "\n",
    "In this question you will work with the NYSE dataset. Only 3 time series in this dataset will be use: `DJ_return` ($a_t$), `log_volatility` ($b_t$), and `log_volume` ($c_t$). Download the data as a csv file from [Canvas](https://canvas.uw.edu/files/91091313/download?download_frd=1). The data was originally obtained from the R library ISLR2, and you can read the documentation for the dataset [here](https://cran.rstudio.com/web/packages/ISLR2/ISLR2.pdf), which explains the meaning of the variables.\n",
    "\n",
    "You want to predict the 1-step ahead value of `log_volume` $c_{t+1}$ using the previous values of this variable and the other two variables (`DJ_return` and `log_volatility`) up to 5 lags. So the features are $c_{t},\\dots,c_{t-4},b_{t},\\dots,b_{t-4},a_{t},\\dots,a_{t-4}$.\n",
    "\n",
    "If the data is stored in a file named `NYSE.csv` in your working directory, then loading the data can be done using the code below."
   ]
  },
  {
   "cell_type": "code",
   "execution_count": 160,
   "metadata": {},
   "outputs": [],
   "source": [
    "import os\n",
    "import pandas as pd\n",
    "data = pd.read_csv(\"NYSE.csv\")"
   ]
  },
  {
   "cell_type": "markdown",
   "metadata": {},
   "source": [
    "## (a) [3 marks]\n",
    "\n",
    "Create the feature matrix `X` and the target variable `y`. Print at least the first 2 rows of `X` and `y` (it is acceptable that not every element of the rows are printed)."
   ]
  },
  {
   "cell_type": "markdown",
   "metadata": {},
   "source": [
    "**[Add your solution here]**"
   ]
  },
  {
   "cell_type": "code",
   "execution_count": 206,
   "metadata": {},
   "outputs": [
    {
     "data": {
      "text/html": [
       "<div>\n",
       "<style scoped>\n",
       "    .dataframe tbody tr th:only-of-type {\n",
       "        vertical-align: middle;\n",
       "    }\n",
       "\n",
       "    .dataframe tbody tr th {\n",
       "        vertical-align: top;\n",
       "    }\n",
       "\n",
       "    .dataframe thead th {\n",
       "        text-align: right;\n",
       "    }\n",
       "</style>\n",
       "<table border=\"1\" class=\"dataframe\">\n",
       "  <thead>\n",
       "    <tr style=\"text-align: right;\">\n",
       "      <th></th>\n",
       "      <th>date</th>\n",
       "      <th>day_of_week</th>\n",
       "      <th>DJ_return</th>\n",
       "      <th>log_volume</th>\n",
       "      <th>log_volatility</th>\n",
       "      <th>train</th>\n",
       "    </tr>\n",
       "  </thead>\n",
       "  <tbody>\n",
       "    <tr>\n",
       "      <th>0</th>\n",
       "      <td>1962-12-03</td>\n",
       "      <td>mon</td>\n",
       "      <td>-0.004461</td>\n",
       "      <td>0.032573</td>\n",
       "      <td>-13.127403</td>\n",
       "      <td>True</td>\n",
       "    </tr>\n",
       "    <tr>\n",
       "      <th>1</th>\n",
       "      <td>1962-12-04</td>\n",
       "      <td>tues</td>\n",
       "      <td>0.007813</td>\n",
       "      <td>0.346202</td>\n",
       "      <td>-11.749305</td>\n",
       "      <td>True</td>\n",
       "    </tr>\n",
       "    <tr>\n",
       "      <th>2</th>\n",
       "      <td>1962-12-05</td>\n",
       "      <td>wed</td>\n",
       "      <td>0.003845</td>\n",
       "      <td>0.525306</td>\n",
       "      <td>-11.665609</td>\n",
       "      <td>True</td>\n",
       "    </tr>\n",
       "    <tr>\n",
       "      <th>3</th>\n",
       "      <td>1962-12-06</td>\n",
       "      <td>thur</td>\n",
       "      <td>-0.003462</td>\n",
       "      <td>0.210182</td>\n",
       "      <td>-11.626772</td>\n",
       "      <td>True</td>\n",
       "    </tr>\n",
       "    <tr>\n",
       "      <th>4</th>\n",
       "      <td>1962-12-07</td>\n",
       "      <td>fri</td>\n",
       "      <td>0.000568</td>\n",
       "      <td>0.044187</td>\n",
       "      <td>-11.728130</td>\n",
       "      <td>True</td>\n",
       "    </tr>\n",
       "  </tbody>\n",
       "</table>\n",
       "</div>"
      ],
      "text/plain": [
       "         date day_of_week  DJ_return  log_volume  log_volatility  train\n",
       "0  1962-12-03         mon  -0.004461    0.032573      -13.127403   True\n",
       "1  1962-12-04        tues   0.007813    0.346202      -11.749305   True\n",
       "2  1962-12-05         wed   0.003845    0.525306      -11.665609   True\n",
       "3  1962-12-06        thur  -0.003462    0.210182      -11.626772   True\n",
       "4  1962-12-07         fri   0.000568    0.044187      -11.728130   True"
      ]
     },
     "execution_count": 206,
     "metadata": {},
     "output_type": "execute_result"
    }
   ],
   "source": [
    "data.head()"
   ]
  },
  {
   "cell_type": "code",
   "execution_count": 207,
   "metadata": {},
   "outputs": [],
   "source": [
    "data1 = data[['DJ_return','log_volume','log_volatility']]"
   ]
  },
  {
   "cell_type": "code",
   "execution_count": 208,
   "metadata": {},
   "outputs": [],
   "source": [
    "import numpy as np\n",
    "def ts_split(ts, feature_steps=5, target_steps=1):\n",
    "    n_obs = len(ts) - feature_steps - target_steps + 1\n",
    "    X = np.array([ts[idx:idx + feature_steps] for idx in range(n_obs)])\n",
    "    y = np.array([ts[idx + feature_steps:idx + feature_steps + target_steps]\n",
    "                  for idx in range(n_obs)])\n",
    "    return X, y\n",
    "\n",
    "X, y = ts_split(data1, feature_steps=5, target_steps=1)"
   ]
  },
  {
   "cell_type": "code",
   "execution_count": 209,
   "metadata": {},
   "outputs": [
    {
     "name": "stdout",
     "output_type": "stream",
     "text": [
      "[[[-4.46100000e-03  3.25730000e-02 -1.31274026e+01]\n",
      "  [ 7.81300000e-03  3.46202000e-01 -1.17493047e+01]\n",
      "  [ 3.84500000e-03  5.25306000e-01 -1.16656090e+01]\n",
      "  [-3.46200000e-03  2.10182000e-01 -1.16267724e+01]\n",
      "  [ 5.68000000e-04  4.41870000e-02 -1.17281302e+01]]\n",
      "\n",
      " [[ 7.81300000e-03  3.46202000e-01 -1.17493047e+01]\n",
      "  [ 3.84500000e-03  5.25306000e-01 -1.16656090e+01]\n",
      "  [-3.46200000e-03  2.10182000e-01 -1.16267724e+01]\n",
      "  [ 5.68000000e-04  4.41870000e-02 -1.17281302e+01]\n",
      "  [-1.08240000e-02  1.33246000e-01 -1.08725263e+01]]]\n"
     ]
    }
   ],
   "source": [
    "print(X[:2,])"
   ]
  },
  {
   "cell_type": "code",
   "execution_count": 210,
   "metadata": {},
   "outputs": [],
   "source": [
    "y = (y[:,:,1])"
   ]
  },
  {
   "cell_type": "code",
   "execution_count": 211,
   "metadata": {},
   "outputs": [
    {
     "name": "stdout",
     "output_type": "stream",
     "text": [
      "[[ 0.133246]\n",
      " [-0.011528]]\n"
     ]
    }
   ],
   "source": [
    "print(y[:2,])"
   ]
  },
  {
   "cell_type": "code",
   "execution_count": 212,
   "metadata": {},
   "outputs": [
    {
     "data": {
      "text/plain": [
       "(6046, 1)"
      ]
     },
     "execution_count": 212,
     "metadata": {},
     "output_type": "execute_result"
    }
   ],
   "source": [
    "y.shape"
   ]
  },
  {
   "cell_type": "code",
   "execution_count": 213,
   "metadata": {},
   "outputs": [
    {
     "data": {
      "text/plain": [
       "(6046, 5, 3)"
      ]
     },
     "execution_count": 213,
     "metadata": {},
     "output_type": "execute_result"
    }
   ],
   "source": [
    "X.shape"
   ]
  },
  {
   "cell_type": "markdown",
   "metadata": {},
   "source": [
    "## (b)  [4 marks]\n",
    "\n",
    "Consider fitting a random forest to predict the 1-step ahead value of `log_volume`. The random forest must include the argument `random_state=42`, and it is useful to also include `n_jobs=-1` (you can use `n_job=-1` throughout this homework wherever it is avaliable). Use 3-fold time series CV, with the test set split 50% into a validation set and 50% into the actual test set, to tune the hyperparameters `n_estimators` taking the values  100, 500, 750, and the cost-complexity pruning parameter $\\alpha$ taking the values $10^{-k}$, $k=0,1,\\dots,9$. The performance measure is RMSE. Report the best hyperparameters."
   ]
  },
  {
   "cell_type": "markdown",
   "metadata": {},
   "source": [
    "**[Add your solution here]**"
   ]
  },
  {
   "cell_type": "code",
   "execution_count": 214,
   "metadata": {},
   "outputs": [],
   "source": [
    "X_1aheadonly = X\n",
    "y_1aheadonly = y\n",
    "n_samples,nx,ny = X_1aheadonly.shape\n",
    "X_1aheadonly = X_1aheadonly.reshape((n_samples,nx*ny))"
   ]
  },
  {
   "cell_type": "code",
   "execution_count": 215,
   "metadata": {},
   "outputs": [
    {
     "data": {
      "text/plain": [
       "(6046, 1)"
      ]
     },
     "execution_count": 215,
     "metadata": {},
     "output_type": "execute_result"
    }
   ],
   "source": [
    "y_1aheadonly.shape"
   ]
  },
  {
   "cell_type": "code",
   "execution_count": 216,
   "metadata": {},
   "outputs": [
    {
     "data": {
      "text/plain": [
       "array([[ 0.133246],\n",
       "       [-0.011528],\n",
       "       [ 0.001607],\n",
       "       ...,\n",
       "       [-0.371237],\n",
       "       [-0.385638],\n",
       "       [-0.264986]])"
      ]
     },
     "execution_count": 216,
     "metadata": {},
     "output_type": "execute_result"
    }
   ],
   "source": [
    "y_1aheadonly"
   ]
  },
  {
   "cell_type": "code",
   "execution_count": 217,
   "metadata": {},
   "outputs": [
    {
     "data": {
      "text/plain": [
       "array([[-4.46100000e-03,  3.25730000e-02, -1.31274026e+01, ...,\n",
       "         5.68000000e-04,  4.41870000e-02, -1.17281302e+01],\n",
       "       [ 7.81300000e-03,  3.46202000e-01, -1.17493047e+01, ...,\n",
       "        -1.08240000e-02,  1.33246000e-01, -1.08725263e+01],\n",
       "       [ 3.84500000e-03,  5.25306000e-01, -1.16656090e+01, ...,\n",
       "         1.24000000e-04, -1.15280000e-02, -1.09777968e+01],\n",
       "       ...,\n",
       "       [ 8.34500000e-03,  9.86704000e-01, -9.64413783e+00, ...,\n",
       "         1.82500000e-03, -1.32242500e+00, -9.90602537e+00],\n",
       "       [-1.38500000e-03,  3.66152000e-01, -9.74621375e+00, ...,\n",
       "        -9.51500000e-03, -3.71237000e-01, -9.82766012e+00],\n",
       "       [-6.15000000e-03,  4.50780000e-01, -9.78221391e+00, ...,\n",
       "        -1.83700000e-03, -3.85638000e-01, -9.92609069e+00]])"
      ]
     },
     "execution_count": 217,
     "metadata": {},
     "output_type": "execute_result"
    }
   ],
   "source": [
    "X_1aheadonly"
   ]
  },
  {
   "cell_type": "code",
   "execution_count": 126,
   "metadata": {},
   "outputs": [],
   "source": [
    "from sklearn.ensemble import RandomForestRegressor\n",
    "\n",
    "tscv = TimeSeriesSplit(n_splits=3)\n",
    "series_len = data1.size\n",
    "# Hyperparamter combinations\n",
    "n_estimators_list = [100,500,750]\n",
    "\n",
    "ccp_alpha_list = [pow(10,-1*0),pow(10,-1*1),pow(10,-1*2),pow(10,-1*3),\n",
    "                 pow(10,-1*4),pow(10,-1*5),pow(10,-1*6),pow(10,-1*7),\n",
    "                 pow(10,-1*8),pow(10,-1*9)]\n",
    "\n",
    "def time_series_valid_test(X, y, n_split, valid_or_test, optimal_par=None):\n",
    "    tscv = TimeSeriesSplit(n_splits=n_split)\n",
    "    rf_rmse = []\n",
    "    i = 0\n",
    "    for train_index, test_index in tscv.split(X):\n",
    "        i += 1\n",
    "        # Break test set into 50% validation set, 50% test set\n",
    "        break_test_ind = int(test_index[0] + 0.5*(test_index[-1]-test_index[0]))\n",
    "        valid_index = np.array(list(range(test_index[0],break_test_ind)))\n",
    "        test_index = np.array(list(range(break_test_ind,test_index[-1])))\n",
    "\n",
    "        # Split\n",
    "        X_train, X_valid, X_test = X[train_index], X[valid_index], X[test_index]\n",
    "        y_train, y_valid, y_test = y[train_index], y[valid_index], y[test_index]\n",
    "\n",
    "        # Tuning\n",
    "        if valid_or_test == \"valid\":\n",
    "            for ccp_alpha in ccp_alpha_list:\n",
    "                for n_estimators in n_estimators_list:\n",
    "                    model_rf = RandomForestRegressor(random_state=42, \n",
    "                               ccp_alpha = ccp_alpha, n_estimators=n_estimators)\n",
    "                    model_rf.fit(X_train, y_train.ravel())\n",
    "                    y_val_rf = model_rf.predict(X_valid)\n",
    "                    rf_rmse.append(np.sqrt(mean_squared_error(y_valid, y_val_rf)))\n",
    "        \n",
    "        # Evalulate on test set\n",
    "        if valid_or_test == \"test\":\n",
    "            model_rf = RandomForestRegressor(random_state=42, \n",
    "                       ccp_alpha=optimal_par[0], n_estimators=optimal_par[1])\n",
    "            model_rf.fit(X_train, y_train.ravel())\n",
    "            y_test_rf = model_rf.predict(X_test)\n",
    "            rf_rmse.append(np.sqrt(mean_squared_error(y_test, y_test_rf)))\n",
    "            \n",
    "            # Plot the prediction for the last CV fold\n",
    "            if i == n_split:\n",
    "                plt.plot(range(series_len-test_index.size,series_len),\n",
    "                         y_test_rf, label=\"1-steps ahead prediction\")\n",
    "                plt.plot(range(series_len-test_index.size,series_len),\n",
    "                         y_test, label=\"True value\")\n",
    "                plt.legend(loc=\"upper left\")\n",
    "    \n",
    "    # Average RMSE over CV folds\n",
    "    if valid_or_test == \"valid\":\n",
    "        rf_rmse = np.mean(np.array(rf_rmse).reshape(\n",
    "            n_split, len(ccp_alpha_list)*len(n_estimators_list)), axis=0)\n",
    "        return rf_rmse\n",
    "    if valid_or_test == \"test\":\n",
    "        rf_rmse = np.mean(rf_rmse)\n",
    "        return rf_rmse, y_test_rf"
   ]
  },
  {
   "cell_type": "code",
   "execution_count": 123,
   "metadata": {},
   "outputs": [
    {
     "name": "stdout",
     "output_type": "stream",
     "text": [
      "['(ccp_alpha, n_estimators):', [1, 100]]\n",
      "0.2358102502325389\n",
      "['(ccp_alpha, n_estimators):', [1, 500]]\n",
      "0.23583279057420017\n",
      "['(ccp_alpha, n_estimators):', [1, 750]]\n",
      "0.23582412722547763\n",
      "['(ccp_alpha, n_estimators):', [0.1, 100]]\n",
      "0.2358102502325389\n",
      "['(ccp_alpha, n_estimators):', [0.1, 500]]\n",
      "0.23583279057420017\n",
      "['(ccp_alpha, n_estimators):', [0.1, 750]]\n",
      "0.23582412722547763\n",
      "['(ccp_alpha, n_estimators):', [0.01, 100]]\n",
      "0.1931776501341703\n",
      "['(ccp_alpha, n_estimators):', [0.01, 500]]\n",
      "0.19289278821198516\n",
      "['(ccp_alpha, n_estimators):', [0.01, 750]]\n",
      "0.1928692930007393\n",
      "['(ccp_alpha, n_estimators):', [0.001, 100]]\n",
      "0.1742571823815323\n",
      "['(ccp_alpha, n_estimators):', [0.001, 500]]\n",
      "0.1741139415851224\n",
      "['(ccp_alpha, n_estimators):', [0.001, 750]]\n",
      "0.1740238054718721\n",
      "['(ccp_alpha, n_estimators):', [0.0001, 100]]\n",
      "0.16135293770866693\n",
      "['(ccp_alpha, n_estimators):', [0.0001, 500]]\n",
      "0.1610553983691199\n",
      "['(ccp_alpha, n_estimators):', [0.0001, 750]]\n",
      "0.16115663900992447\n",
      "['(ccp_alpha, n_estimators):', [1e-05, 100]]\n",
      "0.16111597745843975\n",
      "['(ccp_alpha, n_estimators):', [1e-05, 500]]\n",
      "0.16047851695529133\n",
      "['(ccp_alpha, n_estimators):', [1e-05, 750]]\n",
      "0.16049997955185025\n",
      "['(ccp_alpha, n_estimators):', [1e-06, 100]]\n",
      "0.16147248708876136\n",
      "['(ccp_alpha, n_estimators):', [1e-06, 500]]\n",
      "0.1605719451884491\n",
      "['(ccp_alpha, n_estimators):', [1e-06, 750]]\n",
      "0.16058617165836728\n",
      "['(ccp_alpha, n_estimators):', [1e-07, 100]]\n",
      "0.1615109410650685\n",
      "['(ccp_alpha, n_estimators):', [1e-07, 500]]\n",
      "0.16056503205113146\n",
      "['(ccp_alpha, n_estimators):', [1e-07, 750]]\n",
      "0.1605751748270485\n",
      "['(ccp_alpha, n_estimators):', [1e-08, 100]]\n",
      "0.16152158547493112\n",
      "['(ccp_alpha, n_estimators):', [1e-08, 500]]\n",
      "0.16056854272210067\n",
      "['(ccp_alpha, n_estimators):', [1e-08, 750]]\n",
      "0.16057799765721328\n",
      "['(ccp_alpha, n_estimators):', [1e-09, 100]]\n",
      "0.1615196461934217\n",
      "['(ccp_alpha, n_estimators):', [1e-09, 500]]\n",
      "0.16056802313453636\n",
      "['(ccp_alpha, n_estimators):', [1e-09, 750]]\n",
      "0.1605779768989329\n"
     ]
    }
   ],
   "source": [
    "from sklearn.metrics import mean_squared_error\n",
    "rf_rmse = time_series_valid_test(X_1aheadonly, y_1aheadonly, 3, \"valid\")\n",
    "n_jobs=-1\n",
    "ind = 0\n",
    "for ccp_alpha in ccp_alpha_list:\n",
    "        for n_estimators in n_estimators_list:\n",
    "            print([\"(ccp_alpha, n_estimators):\",[ccp_alpha,n_estimators]])\n",
    "            print(rf_rmse[ind])\n",
    "            ind += 1"
   ]
  },
  {
   "cell_type": "markdown",
   "metadata": {},
   "source": [
    "best hyperparameters:['(ccp_alpha, n_estimators):', [1e-05, 500]]\n",
    "0.16047851695529133"
   ]
  },
  {
   "cell_type": "markdown",
   "metadata": {},
   "source": [
    "## (c)  [2 marks]\n",
    "\n",
    "Using the same time series split as in (b), compute the RMSE of the best fitting model on the test set, and include a plot of the true values and predicted values on the test set of the last fold (the fold closest to the current time) of the CV."
   ]
  },
  {
   "cell_type": "markdown",
   "metadata": {},
   "source": [
    "**[Add your solution here]**"
   ]
  },
  {
   "cell_type": "code",
   "execution_count": 127,
   "metadata": {},
   "outputs": [
    {
     "data": {
      "text/plain": [
       "0.18700029150790354"
      ]
     },
     "execution_count": 127,
     "metadata": {},
     "output_type": "execute_result"
    },
    {
     "data": {
      "image/png": "[encoded data removed]",
      "text/plain": [
       "<Figure size 432x288 with 1 Axes>"
      ]
     },
     "metadata": {
      "needs_background": "light"
     },
     "output_type": "display_data"
    }
   ],
   "source": [
    "from matplotlib import pyplot as plt\n",
    "rf_rmse, y_test_rf = time_series_valid_test(X_1aheadonly, y_1aheadonly, 3, \"test\", [1e-05, 500])\n",
    "rf_rmse"
   ]
  },
  {
   "cell_type": "markdown",
   "metadata": {},
   "source": [
    "The best model's parameter is ccp_alpha = 1e-5 and n_estimators = 500, fitting it on the test set, the RMSE is around 0.187"
   ]
  },
  {
   "cell_type": "markdown",
   "metadata": {},
   "source": [
    "## (d) [2 marks]\n",
    "\n",
    "It is often useful to check that your model is not worse than a very simple method of prediction. Compute the RMSE of a model that simply predicts the 1-step ahead value of `log_volume` $c_{t+1}$ as the current value $c_t$, and compare this to the best fitting random forest model."
   ]
  },
  {
   "cell_type": "markdown",
   "metadata": {},
   "source": [
    "**[Add your solution here]**"
   ]
  },
  {
   "cell_type": "code",
   "execution_count": 161,
   "metadata": {},
   "outputs": [],
   "source": [
    "def ts_split(ts, feature_steps=1, target_steps=1):\n",
    "    n_obs = len(ts) - feature_steps - target_steps + 1\n",
    "    X_log_v = np.array([ts[idx:idx + feature_steps] for idx in range(n_obs)])\n",
    "    y_log_v = np.array([ts[idx + feature_steps:idx + feature_steps + target_steps]\n",
    "                  for idx in range(n_obs)])\n",
    "    return X_log_v[:,:,[3]], y_log_v[:,:,[3]]\n",
    "\n",
    "X_log_v, y_log_v = ts_split(data, feature_steps=1, target_steps=1)"
   ]
  },
  {
   "cell_type": "code",
   "execution_count": 165,
   "metadata": {},
   "outputs": [],
   "source": [
    "X_2aheadonly = X_log_v\n",
    "y_2aheadonly = y_log_v\n",
    "n_samples1,nx1,ny1 = X_2aheadonly.shape\n",
    "X_2aheadonly = X_2aheadonly.reshape((n_samples1,nx1*ny1))\n",
    "n_samples2,nx2,ny2 = y_2aheadonly.shape\n",
    "y_2aheadonly = y_2aheadonly.reshape((n_samples2,nx2*ny2))"
   ]
  },
  {
   "cell_type": "code",
   "execution_count": 167,
   "metadata": {},
   "outputs": [],
   "source": [
    "split_ind = int(X.shape[0]*0.8)\n",
    "X_2aheadonly_train_full, y_2aheadonly_train_full = X_2aheadonly[:split_ind_2], y_2aheadonly[:split_ind_2]\n",
    "X_test, y_test = X_2aheadonly[split_ind:], y_2aheadonly[split_ind:]"
   ]
  },
  {
   "cell_type": "code",
   "execution_count": 168,
   "metadata": {},
   "outputs": [],
   "source": [
    "from sklearn.linear_model import LinearRegression\n",
    "\n",
    "model = LinearRegression()\n",
    "model.fit(X_2aheadonly_train_full, y_2aheadonly_train_full.ravel())\n",
    "y_pred = model.predict(X_test)"
   ]
  },
  {
   "cell_type": "code",
   "execution_count": 169,
   "metadata": {},
   "outputs": [
    {
     "data": {
      "text/plain": [
       "0.2098217358241793"
      ]
     },
     "execution_count": 169,
     "metadata": {},
     "output_type": "execute_result"
    }
   ],
   "source": [
    "from sklearn.metrics import mean_squared_error\n",
    "np.sqrt(mean_squared_error(y_test, y_pred))"
   ]
  },
  {
   "cell_type": "markdown",
   "metadata": {},
   "source": [
    "RMSE of a model that simply predicts the 1-step ahead value of log_volume is 0.2098, which is little bit bigger than the best fitting random forest model's RMSE. "
   ]
  },
  {
   "cell_type": "markdown",
   "metadata": {},
   "source": [
    "## (e) [2 marks]\n",
    "\n",
    "Compute the feature importances of the best fitting model. Which feature is the most important and what is its feature importance value?"
   ]
  },
  {
   "cell_type": "markdown",
   "metadata": {},
   "source": [
    "**[Add your solution here]**"
   ]
  },
  {
   "cell_type": "code",
   "execution_count": 219,
   "metadata": {},
   "outputs": [
    {
     "data": {
      "text/plain": [
       "array([0.0338198 , 0.05925312, 0.01567865, 0.02981184, 0.06281708,\n",
       "       0.01206384, 0.03695308, 0.04355261, 0.01099052, 0.03901734,\n",
       "       0.03701707, 0.01281687, 0.06401678, 0.52835805, 0.01383337])"
      ]
     },
     "execution_count": 219,
     "metadata": {},
     "output_type": "execute_result"
    }
   ],
   "source": [
    "from sklearn.ensemble import RandomForestClassifier\n",
    "\n",
    "forest = RandomForestRegressor(n_estimators=500,\n",
    "                                ccp_alpha = 1e-5,\n",
    "                                random_state = 42,\n",
    "                                n_jobs=-1)\n",
    "forest.fit(X_1aheadonly, y_1aheadonly.ravel())\n",
    "\n",
    "\n",
    "forest.feature_importances_"
   ]
  },
  {
   "cell_type": "markdown",
   "metadata": {},
   "source": [
    "The features are $a_{t},\\dots,a_{t-4},c_{t},\\dots,c_{t-4},b_{t},\\dots,b_{t-4}$, thus the most important feature is $b$, and its importance value is 0.52835805."
   ]
  },
  {
   "cell_type": "markdown",
   "metadata": {},
   "source": [
    "# 2. SVM classification and regression [11 marks]\n",
    "\n",
    "## (a) [2 marks]\n",
    "\n",
    "In this question, a SVM is used for classification for the MNIST dataset. The following code loads the MNIST dataset, creates the test set, and to reduce training time, takes a random sample of 2000 points from the full training set to use as your actual training set stored in `X` and `y`. Do not shuffle the data and do not use a standard scaler.\n",
    "\n",
    "Hint: Reading the solution to Question 9 in the Chapter 5 [Jupyter notebook](https://github.com/ageron/handson-ml2/blob/master/05_support_vector_machines.ipynb) on the textbook website may help with this question."
   ]
  },
  {
   "cell_type": "code",
   "execution_count": 267,
   "metadata": {},
   "outputs": [],
   "source": [
    "import numpy as np\n",
    "import matplotlib as mlp\n",
    "import matplotlib.pyplot as plt\n",
    "import pandas as pd\n",
    "\n",
    "from sklearn.datasets import fetch_openml\n",
    "mnist = fetch_openml('mnist_784', version=1, as_frame=False, cache=True)\n",
    "mnist.target = mnist.target.astype(np.int8)\n",
    "X_train = mnist[\"data\"][:60000]\n",
    "X_test  = mnist[\"data\"][60000:]\n",
    "y_train = mnist[\"target\"][:60000]\n",
    "y_test  = mnist[\"target\"][60000:]"
   ]
  },
  {
   "cell_type": "code",
   "execution_count": 268,
   "metadata": {},
   "outputs": [],
   "source": [
    "from sklearn.model_selection import StratifiedShuffleSplit\n",
    "\n",
    "N = 2000\n",
    "split_obj = StratifiedShuffleSplit(n_splits=1,\n",
    "                               test_size=N/60000, random_state=42)\n",
    "for other_idx, subsample_idx in split_obj.split(X_train, y_train):\n",
    "    X = X_train[subsample_idx]\n",
    "    y = y_train[subsample_idx]"
   ]
  },
  {
   "cell_type": "markdown",
   "metadata": {},
   "source": [
    "**Task:** Consider fitting the linear SVM classifier (`LinearSVC`) with `max_iter=50000`. For this model, optimize the hyperparameter $C$ using 3-fold CV over the values $10^{-k}$, $k=0,1,\\dots,9$, where the performance measure is accuracy. What is the best $C$ and what is the accuracy in this case?"
   ]
  },
  {
   "cell_type": "markdown",
   "metadata": {},
   "source": [
    "**[Add your solution here]**"
   ]
  },
  {
   "cell_type": "code",
   "execution_count": 269,
   "metadata": {},
   "outputs": [
    {
     "data": {
      "text/plain": [
       "LinearSVC(max_iter=50000, random_state=42)"
      ]
     },
     "execution_count": 269,
     "metadata": {},
     "output_type": "execute_result"
    }
   ],
   "source": [
    "from sklearn.metrics import accuracy_score\n",
    "from sklearn.svm import LinearSVC\n",
    "X_train_new = X\n",
    "y_train_new = y\n",
    "lin_clf = LinearSVC(max_iter=50000,random_state=42)\n",
    "lin_clf.fit(X_train_new, y_train_new)"
   ]
  },
  {
   "cell_type": "code",
   "execution_count": 270,
   "metadata": {},
   "outputs": [
    {
     "name": "stdout",
     "output_type": "stream",
     "text": [
      "Fitting 3 folds for each of 10 candidates, totalling 30 fits\n",
      "[CV] C=1 .............................................................\n"
     ]
    },
    {
     "name": "stderr",
     "output_type": "stream",
     "text": [
      "[Parallel(n_jobs=1)]: Using backend SequentialBackend with 1 concurrent workers.\n"
     ]
    },
    {
     "name": "stdout",
     "output_type": "stream",
     "text": [
      "[CV] .............................................. C=1, total=   0.7s\n",
      "[CV] C=1 .............................................................\n"
     ]
    },
    {
     "name": "stderr",
     "output_type": "stream",
     "text": [
      "[Parallel(n_jobs=1)]: Done   1 out of   1 | elapsed:    0.7s remaining:    0.0s\n"
     ]
    },
    {
     "name": "stdout",
     "output_type": "stream",
     "text": [
      "[CV] .............................................. C=1, total=   0.7s\n",
      "[CV] C=1 .............................................................\n",
      "[CV] .............................................. C=1, total=   0.6s\n",
      "[CV] C=0.1 ...........................................................\n",
      "[CV] ............................................ C=0.1, total=   0.6s\n",
      "[CV] C=0.1 ...........................................................\n",
      "[CV] ............................................ C=0.1, total=   0.7s\n",
      "[CV] C=0.1 ...........................................................\n",
      "[CV] ............................................ C=0.1, total=   0.6s\n",
      "[CV] C=0.01 ..........................................................\n",
      "[CV] ........................................... C=0.01, total=   0.6s\n",
      "[CV] C=0.01 ..........................................................\n",
      "[CV] ........................................... C=0.01, total=   0.7s\n",
      "[CV] C=0.01 ..........................................................\n",
      "[CV] ........................................... C=0.01, total=   0.6s\n",
      "[CV] C=0.001 .........................................................\n",
      "[CV] .......................................... C=0.001, total=   0.6s\n",
      "[CV] C=0.001 .........................................................\n",
      "[CV] .......................................... C=0.001, total=   0.7s\n",
      "[CV] C=0.001 .........................................................\n",
      "[CV] .......................................... C=0.001, total=   0.5s\n",
      "[CV] C=0.0001 ........................................................\n",
      "[CV] ......................................... C=0.0001, total=   0.5s\n",
      "[CV] C=0.0001 ........................................................\n",
      "[CV] ......................................... C=0.0001, total=   0.6s\n",
      "[CV] C=0.0001 ........................................................\n",
      "[CV] ......................................... C=0.0001, total=   0.5s\n",
      "[CV] C=1e-05 .........................................................\n",
      "[CV] .......................................... C=1e-05, total=   0.3s\n",
      "[CV] C=1e-05 .........................................................\n",
      "[CV] .......................................... C=1e-05, total=   0.3s\n",
      "[CV] C=1e-05 .........................................................\n",
      "[CV] .......................................... C=1e-05, total=   0.3s\n",
      "[CV] C=1e-06 .........................................................\n",
      "[CV] .......................................... C=1e-06, total=   0.1s\n",
      "[CV] C=1e-06 .........................................................\n",
      "[CV] .......................................... C=1e-06, total=   0.1s\n",
      "[CV] C=1e-06 .........................................................\n",
      "[CV] .......................................... C=1e-06, total=   0.1s\n",
      "[CV] C=1e-07 .........................................................\n",
      "[CV] .......................................... C=1e-07, total=   0.0s\n",
      "[CV] C=1e-07 .........................................................\n",
      "[CV] .......................................... C=1e-07, total=   0.0s\n",
      "[CV] C=1e-07 .........................................................\n",
      "[CV] .......................................... C=1e-07, total=   0.0s\n",
      "[CV] C=1e-08 .........................................................\n",
      "[CV] .......................................... C=1e-08, total=   0.0s\n",
      "[CV] C=1e-08 .........................................................\n",
      "[CV] .......................................... C=1e-08, total=   0.1s\n",
      "[CV] C=1e-08 .........................................................\n",
      "[CV] .......................................... C=1e-08, total=   0.0s\n",
      "[CV] C=1e-09 .........................................................\n",
      "[CV] .......................................... C=1e-09, total=   0.0s\n",
      "[CV] C=1e-09 .........................................................\n",
      "[CV] .......................................... C=1e-09, total=   0.0s\n",
      "[CV] C=1e-09 .........................................................\n",
      "[CV] .......................................... C=1e-09, total=   0.0s\n"
     ]
    },
    {
     "name": "stderr",
     "output_type": "stream",
     "text": [
      "[Parallel(n_jobs=1)]: Done  30 out of  30 | elapsed:   10.7s finished\n"
     ]
    },
    {
     "data": {
      "text/plain": [
       "RandomizedSearchCV(cv=3, estimator=LinearSVC(max_iter=50000, random_state=42),\n",
       "                   param_distributions={'C': [1, 0.1, 0.01, 0.001, 0.0001,\n",
       "                                              1e-05, 1e-06, 1e-07, 1e-08,\n",
       "                                              1e-09]},\n",
       "                   random_state=42, verbose=2)"
      ]
     },
     "execution_count": 270,
     "metadata": {},
     "output_type": "execute_result"
    }
   ],
   "source": [
    "from sklearn.model_selection import RandomizedSearchCV\n",
    "from scipy.stats import reciprocal, uniform\n",
    "\n",
    "param_distributions = {\"C\": [pow(10,-1*0), pow(10,-1*1),pow(10,-1*2),\n",
    "                             pow(10,-1*3), pow(10,-1*4),pow(10,-1*5),\n",
    "                             pow(10,-1*6), pow(10,-1*7),pow(10,-1*8),pow(10,-1*9)]}\n",
    "rnd_search_cv = RandomizedSearchCV(lin_clf, param_distributions, n_iter=10, verbose=2, cv=3, random_state=42)\n",
    "rnd_search_cv.fit(X_train_new, y_train_new)"
   ]
  },
  {
   "cell_type": "code",
   "execution_count": 271,
   "metadata": {},
   "outputs": [
    {
     "data": {
      "text/plain": [
       "LinearSVC(C=1e-07, max_iter=50000, random_state=42)"
      ]
     },
     "execution_count": 271,
     "metadata": {},
     "output_type": "execute_result"
    }
   ],
   "source": [
    "rnd_search_cv.best_estimator_"
   ]
  },
  {
   "cell_type": "code",
   "execution_count": 272,
   "metadata": {},
   "outputs": [
    {
     "name": "stderr",
     "output_type": "stream",
     "text": [
      "/opt/anaconda3/lib/python3.8/site-packages/sklearn/model_selection/_search.py:278: UserWarning: The total space of parameters 1 is smaller than n_iter=10. Running 1 iterations. For exhaustive searches, use GridSearchCV.\n",
      "  warnings.warn(\n",
      "[Parallel(n_jobs=1)]: Using backend SequentialBackend with 1 concurrent workers.\n",
      "[Parallel(n_jobs=1)]: Done   1 out of   1 | elapsed:    0.1s remaining:    0.0s\n",
      "[Parallel(n_jobs=1)]: Done   3 out of   3 | elapsed:    0.1s finished\n"
     ]
    },
    {
     "name": "stdout",
     "output_type": "stream",
     "text": [
      "Fitting 3 folds for each of 1 candidates, totalling 3 fits\n",
      "[CV] C=1e-07 .........................................................\n",
      "[CV] .......................................... C=1e-07, total=   0.1s\n",
      "[CV] C=1e-07 .........................................................\n",
      "[CV] .......................................... C=1e-07, total=   0.0s\n",
      "[CV] C=1e-07 .........................................................\n",
      "[CV] .......................................... C=1e-07, total=   0.0s\n"
     ]
    },
    {
     "data": {
      "text/plain": [
       "0.926"
      ]
     },
     "execution_count": 272,
     "metadata": {},
     "output_type": "execute_result"
    }
   ],
   "source": [
    "from sklearn.metrics import accuracy_score\n",
    "param_dist = {\"C\": [pow(10,-1*7)]}\n",
    "rnd_search_cv = RandomizedSearchCV(lin_clf, param_dist, verbose=2, cv=3)\n",
    "rnd_search_cv.fit(X_train_new, y_train_new)\n",
    "y_pred_2 = rnd_search_cv.predict(X_train_new)\n",
    "accuracy_score(y_train_new, y_pred_2)"
   ]
  },
  {
   "cell_type": "markdown",
   "metadata": {},
   "source": [
    "The best $C = {10}^{-7}$, and in this case the accuracy is 0.926"
   ]
  },
  {
   "cell_type": "markdown",
   "metadata": {},
   "source": [
    "## (b) [2 marks]\n",
    "\n",
    "**Task:** Now consider fitting a SVM with a Gaussian RBF kernel and `max_iter=50000`. For this model, optimize the hyperparameters $C$ over the distrbution `uniform(1,10)` and $\\gamma$ over the distribution `reciprocal(0.001, 0.1)` with 10 random samples. Again, use 3-fold CV and the performance measure is accuracy. What are the best hyperparameters and what is the accuracy in this case?"
   ]
  },
  {
   "cell_type": "markdown",
   "metadata": {},
   "source": [
    "**[Add your solution here]**"
   ]
  },
  {
   "cell_type": "code",
   "execution_count": 273,
   "metadata": {},
   "outputs": [],
   "source": [
    "scalar = StandardScaler()\n",
    "X_train = scalar.fit_transform(X)"
   ]
  },
  {
   "cell_type": "code",
   "execution_count": 283,
   "metadata": {},
   "outputs": [
    {
     "name": "stdout",
     "output_type": "stream",
     "text": [
      "Fitting 3 folds for each of 10 candidates, totalling 30 fits\n",
      "[CV] C=2.9060489549325355, gamma=0.03546640867963035 .................\n"
     ]
    },
    {
     "name": "stderr",
     "output_type": "stream",
     "text": [
      "[Parallel(n_jobs=1)]: Using backend SequentialBackend with 1 concurrent workers.\n"
     ]
    },
    {
     "name": "stdout",
     "output_type": "stream",
     "text": [
      "[CV] .. C=2.9060489549325355, gamma=0.03546640867963035, total=   3.0s\n",
      "[CV] C=2.9060489549325355, gamma=0.03546640867963035 .................\n"
     ]
    },
    {
     "name": "stderr",
     "output_type": "stream",
     "text": [
      "[Parallel(n_jobs=1)]: Done   1 out of   1 | elapsed:    3.0s remaining:    0.0s\n"
     ]
    },
    {
     "name": "stdout",
     "output_type": "stream",
     "text": [
      "[CV] .. C=2.9060489549325355, gamma=0.03546640867963035, total=   3.0s\n",
      "[CV] C=2.9060489549325355, gamma=0.03546640867963035 .................\n",
      "[CV] .. C=2.9060489549325355, gamma=0.03546640867963035, total=   3.0s\n",
      "[CV] C=6.3956351870026245, gamma=0.001410697586422265 ................\n",
      "[CV] . C=6.3956351870026245, gamma=0.001410697586422265, total=   1.6s\n",
      "[CV] C=6.3956351870026245, gamma=0.001410697586422265 ................\n",
      "[CV] . C=6.3956351870026245, gamma=0.001410697586422265, total=   1.6s\n",
      "[CV] C=6.3956351870026245, gamma=0.001410697586422265 ................\n",
      "[CV] . C=6.3956351870026245, gamma=0.001410697586422265, total=   1.5s\n",
      "[CV] C=3.366641869729813, gamma=0.04939335286997754 ..................\n",
      "[CV] ... C=3.366641869729813, gamma=0.04939335286997754, total=   3.0s\n",
      "[CV] C=3.366641869729813, gamma=0.04939335286997754 ..................\n",
      "[CV] ... C=3.366641869729813, gamma=0.04939335286997754, total=   3.0s\n",
      "[CV] C=3.366641869729813, gamma=0.04939335286997754 ..................\n",
      "[CV] ... C=3.366641869729813, gamma=0.04939335286997754, total=   3.0s\n",
      "[CV] C=7.22230436028801, gamma=0.04399680701575934 ...................\n",
      "[CV] .... C=7.22230436028801, gamma=0.04399680701575934, total=   3.0s\n",
      "[CV] C=7.22230436028801, gamma=0.04399680701575934 ...................\n",
      "[CV] .... C=7.22230436028801, gamma=0.04399680701575934, total=   3.0s\n",
      "[CV] C=7.22230436028801, gamma=0.04399680701575934 ...................\n",
      "[CV] .... C=7.22230436028801, gamma=0.04399680701575934, total=   3.0s\n",
      "[CV] C=5.521371819026276, gamma=0.04582307250562502 ..................\n",
      "[CV] ... C=5.521371819026276, gamma=0.04582307250562502, total=   3.0s\n",
      "[CV] C=5.521371819026276, gamma=0.04582307250562502 ..................\n",
      "[CV] ... C=5.521371819026276, gamma=0.04582307250562502, total=   3.0s\n",
      "[CV] C=5.521371819026276, gamma=0.04582307250562502 ..................\n",
      "[CV] ... C=5.521371819026276, gamma=0.04582307250562502, total=   3.0s\n",
      "[CV] C=5.635573260606385, gamma=0.0011918276449898906 ................\n",
      "[CV] . C=5.635573260606385, gamma=0.0011918276449898906, total=   1.5s\n",
      "[CV] C=5.635573260606385, gamma=0.0011918276449898906 ................\n",
      "[CV] . C=5.635573260606385, gamma=0.0011918276449898906, total=   1.4s\n",
      "[CV] C=5.635573260606385, gamma=0.0011918276449898906 ................\n",
      "[CV] . C=5.635573260606385, gamma=0.0011918276449898906, total=   1.4s\n",
      "[CV] C=10.862384448518496, gamma=0.0010001877430683326 ...............\n",
      "[CV]  C=10.862384448518496, gamma=0.0010001877430683326, total=   1.4s\n",
      "[CV] C=10.862384448518496, gamma=0.0010001877430683326 ...............\n",
      "[CV]  C=10.862384448518496, gamma=0.0010001877430683326, total=   1.3s\n",
      "[CV] C=10.862384448518496, gamma=0.0010001877430683326 ...............\n",
      "[CV]  C=10.862384448518496, gamma=0.0010001877430683326, total=   1.3s\n",
      "[CV] C=8.180764662117685, gamma=0.0011235200516256773 ................\n",
      "[CV] . C=8.180764662117685, gamma=0.0011235200516256773, total=   1.5s\n",
      "[CV] C=8.180764662117685, gamma=0.0011235200516256773 ................\n",
      "[CV] . C=8.180764662117685, gamma=0.0011235200516256773, total=   1.4s\n",
      "[CV] C=8.180764662117685, gamma=0.0011235200516256773 ................\n",
      "[CV] . C=8.180764662117685, gamma=0.0011235200516256773, total=   1.4s\n",
      "[CV] C=3.064934942990443, gamma=0.034072164893250656 .................\n",
      "[CV] .. C=3.064934942990443, gamma=0.034072164893250656, total=   3.0s\n",
      "[CV] C=3.064934942990443, gamma=0.034072164893250656 .................\n",
      "[CV] .. C=3.064934942990443, gamma=0.034072164893250656, total=   3.0s\n",
      "[CV] C=3.064934942990443, gamma=0.034072164893250656 .................\n",
      "[CV] .. C=3.064934942990443, gamma=0.034072164893250656, total=   3.0s\n",
      "[CV] C=5.4196561481526135, gamma=0.001366997785406688 ................\n",
      "[CV] . C=5.4196561481526135, gamma=0.001366997785406688, total=   1.6s\n",
      "[CV] C=5.4196561481526135, gamma=0.001366997785406688 ................\n",
      "[CV] . C=5.4196561481526135, gamma=0.001366997785406688, total=   1.6s\n",
      "[CV] C=5.4196561481526135, gamma=0.001366997785406688 ................\n",
      "[CV] . C=5.4196561481526135, gamma=0.001366997785406688, total=   1.5s\n"
     ]
    },
    {
     "name": "stderr",
     "output_type": "stream",
     "text": [
      "[Parallel(n_jobs=1)]: Done  30 out of  30 | elapsed:  1.1min finished\n"
     ]
    },
    {
     "data": {
      "text/plain": [
       "RandomizedSearchCV(cv=3, estimator=SVC(max_iter=50000),\n",
       "                   param_distributions={'C': <scipy.stats._distn_infrastructure.rv_frozen object at 0x7fc5582f69d0>,\n",
       "                                        'gamma': <scipy.stats._distn_infrastructure.rv_frozen object at 0x7fc5582eac70>},\n",
       "                   verbose=2)"
      ]
     },
     "execution_count": 283,
     "metadata": {},
     "output_type": "execute_result"
    }
   ],
   "source": [
    "from sklearn.svm import SVC\n",
    "rbf_kernel_clf = SVC(kernel=\"rbf\", max_iter=50000)\n",
    "rbf_kernel_clf.fit(X_train_new, y_train_new)\n",
    "param_distributions = {\"gamma\": reciprocal(0.001, 0.1), \"C\": uniform(1, 10)}\n",
    "rnd_search_cv = RandomizedSearchCV(rbf_kernel_clf, param_distributions, n_iter=10, \n",
    "                                   #scoring = 'accuracy,'\n",
    "                                   verbose=2, cv=3)\n",
    "rnd_search_cv.fit(X_train, y_train_new)"
   ]
  },
  {
   "cell_type": "code",
   "execution_count": 284,
   "metadata": {},
   "outputs": [
    {
     "data": {
      "text/plain": [
       "SVC(C=5.635573260606385, gamma=0.0011918276449898906, max_iter=50000)"
      ]
     },
     "execution_count": 284,
     "metadata": {},
     "output_type": "execute_result"
    }
   ],
   "source": [
    "rnd_search_cv.best_estimator_.fit(X_train, y_train_new)"
   ]
  },
  {
   "cell_type": "code",
   "execution_count": 285,
   "metadata": {},
   "outputs": [
    {
     "data": {
      "text/plain": [
       "0.9995"
      ]
     },
     "execution_count": 285,
     "metadata": {},
     "output_type": "execute_result"
    }
   ],
   "source": [
    "y_pred_3 = rnd_search_cv.predict(X_train)\n",
    "accuracy_score(y_train_new, y_pred_3)"
   ]
  },
  {
   "cell_type": "markdown",
   "metadata": {},
   "source": [
    "Here, the best hyperparameters are C=5.635573260606385, gamma=0.0011918276449898906, and the accuracy is 0.9995"
   ]
  },
  {
   "cell_type": "markdown",
   "metadata": {},
   "source": [
    "## (c) [2 mark]\n",
    "\n",
    "**Task:** Choose the best model in (a) and (b). Then for this model, evaluate the accuracy on the test set, which is stored in `X_test` and `y_test`."
   ]
  },
  {
   "cell_type": "markdown",
   "metadata": {},
   "source": [
    "**[Add your solution here]**"
   ]
  },
  {
   "cell_type": "markdown",
   "metadata": {},
   "source": [
    "The best model is the SVM with a Gaussian RBF kernel model."
   ]
  },
  {
   "cell_type": "code",
   "execution_count": 280,
   "metadata": {},
   "outputs": [
    {
     "data": {
      "text/plain": [
       "0.9124"
      ]
     },
     "execution_count": 280,
     "metadata": {},
     "output_type": "execute_result"
    }
   ],
   "source": [
    "from sklearn.metrics import accuracy_score\n",
    "X_test_stand = scalar.transform(X_test)\n",
    "y_pred = rnd_search_cv.predict(X_test_stand)\n",
    "accuracy_score(y_test, y_pred)"
   ]
  },
  {
   "cell_type": "markdown",
   "metadata": {},
   "source": [
    "Here we get the accuracy of SVM with RBF kernal is 0.9124."
   ]
  },
  {
   "cell_type": "markdown",
   "metadata": {},
   "source": [
    "## (d) [3 marks]\n",
    "\n",
    "Consider the California housing data from Homework 1 using the same training and test set there. The data is obtained using the code below, which comes from Homework 1, and the training set is stored in `X` and `y`. Do not shuffle the data.\n",
    "\n",
    "Hint: Reading the solution to Question 10 in the Chapter 5 [Jupyter notebook](https://github.com/ageron/handson-ml2/blob/master/05_support_vector_machines.ipynb) on the textbook website may help with this question."
   ]
  },
  {
   "cell_type": "code",
   "execution_count": 2,
   "metadata": {},
   "outputs": [],
   "source": [
    "from sklearn.pipeline import Pipeline\n",
    "from sklearn.impute import SimpleImputer\n",
    "from sklearn.compose import ColumnTransformer\n",
    "from sklearn.preprocessing import StandardScaler, OneHotEncoder\n",
    "\n",
    "import os\n",
    "import tarfile\n",
    "from six.moves import urllib\n",
    "import numpy as np\n",
    "import pandas as pd\n",
    "from sklearn.model_selection import StratifiedShuffleSplit\n",
    "\n",
    "HOUSING_PATH = os.path.join(\"datasets\", \"housing\")\n",
    "\n",
    "def fetch_housing_data(housing_url, housing_path=HOUSING_PATH):\n",
    "    if not os.path.isdir(housing_path):\n",
    "        os.makedirs(housing_path)\n",
    "    tgz_path = os.path.join(housing_path, \"housing.tgz\")\n",
    "    urllib.request.urlretrieve(housing_url, tgz_path)\n",
    "    housing_tgz = tarfile.open(tgz_path)\n",
    "    housing_tgz.extractall(path=housing_path)\n",
    "    housing_tgz.close()\n",
    "\n",
    "def load_housing_data(housing_path=HOUSING_PATH):\n",
    "    csv_path = os.path.join(housing_path, \"housing.csv\")\n",
    "    return pd.read_csv(csv_path)\n",
    "\n",
    "HOUSING_URL = (\"https://raw.githubusercontent.com/ageron/\"+\n",
    "               \"handson-ml2/master/datasets/housing/housing.tgz\")\n",
    "fetch_housing_data(HOUSING_URL)\n",
    "data = load_housing_data()\n",
    "\n",
    "data[\"income_cat\"] = np.ceil(data[\"median_income\"] / 1.5)\n",
    "data[\"income_cat\"].where(data[\"income_cat\"] < 5, 5.0, inplace=True)\n",
    "split = StratifiedShuffleSplit(n_splits=1, test_size=0.2, random_state=42)\n",
    "for train_index, test_index in split.split(data, data[\"income_cat\"]):\n",
    "    strat_train_set = data.loc[train_index]\n",
    "    strat_test_set = data.loc[test_index]\n",
    "for set_ in (strat_train_set, strat_test_set):\n",
    "    set_.drop(\"income_cat\", axis=1, inplace=True)\n",
    "X_raw = strat_train_set.drop(\"median_house_value\", axis=1)\n",
    "y = strat_train_set[\"median_house_value\"].copy()\n",
    "\n",
    "num_pipeline = Pipeline([\n",
    "        ('imputer', SimpleImputer(strategy=\"median\")),\n",
    "        ('std_scaler', StandardScaler()),\n",
    "    ])\n",
    "num_features = X_raw.drop(\"ocean_proximity\", axis=1)\n",
    "num_attribs = list(num_features)\n",
    "cat_attribs = [\"ocean_proximity\"]\n",
    "full_pipeline = ColumnTransformer([\n",
    "        (\"num\", num_pipeline, num_attribs),\n",
    "        (\"cat\", OneHotEncoder(), cat_attribs),\n",
    "    ])\n",
    "\n",
    "X = full_pipeline.fit_transform(X_raw)\n",
    "X_test_raw = strat_test_set.drop(\"median_house_value\", axis=1)\n",
    "y_test = strat_test_set[\"median_house_value\"].copy()\n",
    "X_test = full_pipeline.transform(X_test_raw)"
   ]
  },
  {
   "cell_type": "markdown",
   "metadata": {},
   "source": [
    "**Task:** Consider SVM regression with a Gaussian RBF kernel and a sigmoid kernel with `max_iter=50000`. For both models, use randomized search to choose good hyperparameter values for `C` and `gamma`, and set the arguement `random_state=42`. For both models, optimize the hyperparameters $C$ over the distrbution `uniform(1,10)` and $\\gamma$ over the distribution `reciprocal(0.001, 0.1)` with 10 random samples. Again, use 3-fold CV and the performance measure is MSE. What are the best hyperparameters and what is the MSE in this case?"
   ]
  },
  {
   "cell_type": "markdown",
   "metadata": {},
   "source": [
    "**[Add your solution here]**"
   ]
  },
  {
   "cell_type": "code",
   "execution_count": 4,
   "metadata": {},
   "outputs": [
    {
     "data": {
      "text/plain": [
       "SVC(kernel='sigmoid', max_iter=50000, random_state=42)"
      ]
     },
     "execution_count": 4,
     "metadata": {},
     "output_type": "execute_result"
    }
   ],
   "source": [
    "from sklearn.svm import LinearSVR\n",
    "from sklearn.svm import SVC\n",
    "\n",
    "svm_rbf_clf = SVC(kernel='rbf',max_iter=50000,random_state=42)\n",
    "svm_rbf_clf.fit(X, y)\n",
    "\n",
    "svm_sig_clf = SVC(kernel='sigmoid',max_iter=50000,random_state=42)\n",
    "svm_sig_clf.fit(X, y)"
   ]
  },
  {
   "cell_type": "code",
   "execution_count": 249,
   "metadata": {},
   "outputs": [
    {
     "name": "stdout",
     "output_type": "stream",
     "text": [
      "Fitting 3 folds for each of 10 candidates, totalling 30 fits\n",
      "[CV] C=8.285434042921391, gamma=0.023838534578000857 .................\n"
     ]
    },
    {
     "name": "stderr",
     "output_type": "stream",
     "text": [
      "/opt/anaconda3/lib/python3.8/site-packages/sklearn/model_selection/_split.py:670: UserWarning: The least populated class in y has only 1 members, which is less than n_splits=3.\n",
      "  warnings.warn((\"The least populated class in y has only %d\"\n",
      "[Parallel(n_jobs=1)]: Using backend SequentialBackend with 1 concurrent workers.\n"
     ]
    },
    {
     "name": "stdout",
     "output_type": "stream",
     "text": [
      "[CV] .. C=8.285434042921391, gamma=0.023838534578000857, total= 5.5min\n",
      "[CV] C=8.285434042921391, gamma=0.023838534578000857 .................\n"
     ]
    },
    {
     "name": "stderr",
     "output_type": "stream",
     "text": [
      "[Parallel(n_jobs=1)]: Done   1 out of   1 | elapsed:  5.5min remaining:    0.0s\n"
     ]
    },
    {
     "name": "stdout",
     "output_type": "stream",
     "text": [
      "[CV] .. C=8.285434042921391, gamma=0.023838534578000857, total=10.3min\n",
      "[CV] C=8.285434042921391, gamma=0.023838534578000857 .................\n",
      "[CV] .. C=8.285434042921391, gamma=0.023838534578000857, total= 5.9min\n",
      "[CV] C=10.695461949946674, gamma=0.010708043206672069 ................\n",
      "[CV] . C=10.695461949946674, gamma=0.010708043206672069, total= 6.3min\n",
      "[CV] C=10.695461949946674, gamma=0.010708043206672069 ................\n",
      "[CV] . C=10.695461949946674, gamma=0.010708043206672069, total= 5.7min\n",
      "[CV] C=10.695461949946674, gamma=0.010708043206672069 ................\n",
      "[CV] . C=10.695461949946674, gamma=0.010708043206672069, total= 6.3min\n",
      "[CV] C=10.207024889110668, gamma=0.0811314013719687 ..................\n",
      "[CV] ... C=10.207024889110668, gamma=0.0811314013719687, total= 5.7min\n",
      "[CV] C=10.207024889110668, gamma=0.0811314013719687 ..................\n",
      "[CV] ... C=10.207024889110668, gamma=0.0811314013719687, total= 5.8min\n",
      "[CV] C=10.207024889110668, gamma=0.0811314013719687 ..................\n",
      "[CV] ... C=10.207024889110668, gamma=0.0811314013719687, total= 6.4min\n",
      "[CV] C=4.847913896271592, gamma=0.008215761459316151 .................\n",
      "[CV] .. C=4.847913896271592, gamma=0.008215761459316151, total= 5.7min\n",
      "[CV] C=4.847913896271592, gamma=0.008215761459316151 .................\n",
      "[CV] .. C=4.847913896271592, gamma=0.008215761459316151, total= 5.7min\n",
      "[CV] C=4.847913896271592, gamma=0.008215761459316151 .................\n",
      "[CV] .. C=4.847913896271592, gamma=0.008215761459316151, total= 7.4min\n",
      "[CV] C=2.9615156301997616, gamma=0.0010844455091726145 ...............\n",
      "[CV]  C=2.9615156301997616, gamma=0.0010844455091726145, total= 5.7min\n",
      "[CV] C=2.9615156301997616, gamma=0.0010844455091726145 ...............\n",
      "[CV]  C=2.9615156301997616, gamma=0.0010844455091726145, total= 6.7min\n",
      "[CV] C=2.9615156301997616, gamma=0.0010844455091726145 ...............\n",
      "[CV]  C=2.9615156301997616, gamma=0.0010844455091726145, total= 7.1min\n",
      "[CV] C=6.338013772825093, gamma=0.00838166127234242 ..................\n",
      "[CV] ... C=6.338013772825093, gamma=0.00838166127234242, total= 5.7min\n",
      "[CV] C=6.338013772825093, gamma=0.00838166127234242 ..................\n",
      "[CV] ... C=6.338013772825093, gamma=0.00838166127234242, total= 6.0min\n",
      "[CV] C=6.338013772825093, gamma=0.00838166127234242 ..................\n",
      "[CV] ... C=6.338013772825093, gamma=0.00838166127234242, total= 5.7min\n",
      "[CV] C=5.920901863355592, gamma=0.009215784236546891 .................\n",
      "[CV] .. C=5.920901863355592, gamma=0.009215784236546891, total= 5.7min\n",
      "[CV] C=5.920901863355592, gamma=0.009215784236546891 .................\n",
      "[CV] .. C=5.920901863355592, gamma=0.009215784236546891, total= 5.7min\n",
      "[CV] C=5.920901863355592, gamma=0.009215784236546891 .................\n",
      "[CV] .. C=5.920901863355592, gamma=0.009215784236546891, total= 6.3min\n",
      "[CV] C=8.425823161851639, gamma=0.010799741148609078 .................\n",
      "[CV] .. C=8.425823161851639, gamma=0.010799741148609078, total=21.2min\n",
      "[CV] C=8.425823161851639, gamma=0.010799741148609078 .................\n",
      "[CV] .. C=8.425823161851639, gamma=0.010799741148609078, total=18.7min\n",
      "[CV] C=8.425823161851639, gamma=0.010799741148609078 .................\n",
      "[CV] .. C=8.425823161851639, gamma=0.010799741148609078, total= 5.9min\n",
      "[CV] C=10.08338029598364, gamma=0.02973839101746801 ..................\n",
      "[CV] ... C=10.08338029598364, gamma=0.02973839101746801, total=34.4min\n",
      "[CV] C=10.08338029598364, gamma=0.02973839101746801 ..................\n",
      "[CV] ... C=10.08338029598364, gamma=0.02973839101746801, total= 5.9min\n",
      "[CV] C=10.08338029598364, gamma=0.02973839101746801 ..................\n",
      "[CV] ... C=10.08338029598364, gamma=0.02973839101746801, total=22.7min\n",
      "[CV] C=5.013341443069226, gamma=0.006241546312774898 .................\n",
      "[CV] .. C=5.013341443069226, gamma=0.006241546312774898, total= 5.5min\n",
      "[CV] C=5.013341443069226, gamma=0.006241546312774898 .................\n",
      "[CV] .. C=5.013341443069226, gamma=0.006241546312774898, total= 9.3min\n",
      "[CV] C=5.013341443069226, gamma=0.006241546312774898 .................\n",
      "[CV] .. C=5.013341443069226, gamma=0.006241546312774898, total= 5.5min\n"
     ]
    },
    {
     "name": "stderr",
     "output_type": "stream",
     "text": [
      "[Parallel(n_jobs=1)]: Done  30 out of  30 | elapsed: 260.1min finished\n"
     ]
    },
    {
     "data": {
      "text/plain": [
       "RandomizedSearchCV(cv=3, estimator=SVC(max_iter=50000, random_state=42),\n",
       "                   param_distributions={'C': <scipy.stats._distn_infrastructure.rv_frozen object at 0x7fc5d989b160>,\n",
       "                                        'gamma': <scipy.stats._distn_infrastructure.rv_frozen object at 0x7fc5d98954c0>},\n",
       "                   verbose=2)"
      ]
     },
     "execution_count": 249,
     "metadata": {},
     "output_type": "execute_result"
    }
   ],
   "source": [
    "param_distributions = {\"gamma\": reciprocal(0.001, 0.1), \"C\": uniform(1, 10)}\n",
    "rnd_search_cv = RandomizedSearchCV(svm_rbf_clf, param_distributions, n_iter=10, verbose=2, cv=3)\n",
    "rnd_search_cv.fit(X, y)"
   ]
  },
  {
   "cell_type": "code",
   "execution_count": 252,
   "metadata": {},
   "outputs": [
    {
     "data": {
      "text/plain": [
       "SVC(C=6.338013772825093, gamma=0.00838166127234242, max_iter=50000,\n",
       "    random_state=42)"
      ]
     },
     "execution_count": 252,
     "metadata": {},
     "output_type": "execute_result"
    }
   ],
   "source": [
    "rnd_search_cv.best_estimator_.fit(X, y)"
   ]
  },
  {
   "cell_type": "markdown",
   "metadata": {},
   "source": [
    "SVM regression with a Gaussian RBF kernel best hyperparameters: C=6.338013772825093, gamma=0.00838166127234242."
   ]
  },
  {
   "cell_type": "code",
   "execution_count": 253,
   "metadata": {},
   "outputs": [
    {
     "name": "stdout",
     "output_type": "stream",
     "text": [
      "Fitting 3 folds for each of 10 candidates, totalling 30 fits\n",
      "[CV] C=2.448115280243586, gamma=0.017040537081944925 .................\n"
     ]
    },
    {
     "name": "stderr",
     "output_type": "stream",
     "text": [
      "[Parallel(n_jobs=1)]: Using backend SequentialBackend with 1 concurrent workers.\n"
     ]
    },
    {
     "name": "stdout",
     "output_type": "stream",
     "text": [
      "[CV] .. C=2.448115280243586, gamma=0.017040537081944925, total=   3.0s\n",
      "[CV] C=2.448115280243586, gamma=0.017040537081944925 .................\n"
     ]
    },
    {
     "name": "stderr",
     "output_type": "stream",
     "text": [
      "[Parallel(n_jobs=1)]: Done   1 out of   1 | elapsed:    3.0s remaining:    0.0s\n"
     ]
    },
    {
     "name": "stdout",
     "output_type": "stream",
     "text": [
      "[CV] .. C=2.448115280243586, gamma=0.017040537081944925, total=   2.9s\n",
      "[CV] C=2.448115280243586, gamma=0.017040537081944925 .................\n",
      "[CV] .. C=2.448115280243586, gamma=0.017040537081944925, total=   2.8s\n",
      "[CV] C=4.589679817939181, gamma=0.02676376674044744 ..................\n",
      "[CV] ... C=4.589679817939181, gamma=0.02676376674044744, total=   2.9s\n",
      "[CV] C=4.589679817939181, gamma=0.02676376674044744 ..................\n",
      "[CV] ... C=4.589679817939181, gamma=0.02676376674044744, total=   2.9s\n",
      "[CV] C=4.589679817939181, gamma=0.02676376674044744 ..................\n",
      "[CV] ... C=4.589679817939181, gamma=0.02676376674044744, total=   2.8s\n",
      "[CV] C=5.856192492245775, gamma=0.0018525202815017476 ................\n",
      "[CV] . C=5.856192492245775, gamma=0.0018525202815017476, total=   2.9s\n",
      "[CV] C=5.856192492245775, gamma=0.0018525202815017476 ................\n",
      "[CV] . C=5.856192492245775, gamma=0.0018525202815017476, total=   2.9s\n",
      "[CV] C=5.856192492245775, gamma=0.0018525202815017476 ................\n",
      "[CV] . C=5.856192492245775, gamma=0.0018525202815017476, total=   2.8s\n",
      "[CV] C=4.710333583978392, gamma=0.002052606529592214 .................\n",
      "[CV] .. C=4.710333583978392, gamma=0.002052606529592214, total=   2.8s\n",
      "[CV] C=4.710333583978392, gamma=0.002052606529592214 .................\n",
      "[CV] .. C=4.710333583978392, gamma=0.002052606529592214, total=   2.8s\n",
      "[CV] C=4.710333583978392, gamma=0.002052606529592214 .................\n",
      "[CV] .. C=4.710333583978392, gamma=0.002052606529592214, total=   2.8s\n",
      "[CV] C=8.932236522780656, gamma=0.04822904564993589 ..................\n",
      "[CV] ... C=8.932236522780656, gamma=0.04822904564993589, total=   2.8s\n",
      "[CV] C=8.932236522780656, gamma=0.04822904564993589 ..................\n",
      "[CV] ... C=8.932236522780656, gamma=0.04822904564993589, total=   2.8s\n",
      "[CV] C=8.932236522780656, gamma=0.04822904564993589 ..................\n",
      "[CV] ... C=8.932236522780656, gamma=0.04822904564993589, total=   2.8s\n",
      "[CV] C=2.7496078182688124, gamma=0.00665101941068922 .................\n",
      "[CV] .. C=2.7496078182688124, gamma=0.00665101941068922, total=   2.8s\n",
      "[CV] C=2.7496078182688124, gamma=0.00665101941068922 .................\n",
      "[CV] .. C=2.7496078182688124, gamma=0.00665101941068922, total=   2.9s\n",
      "[CV] C=2.7496078182688124, gamma=0.00665101941068922 .................\n",
      "[CV] .. C=2.7496078182688124, gamma=0.00665101941068922, total=   2.9s\n",
      "[CV] C=10.913200054186685, gamma=0.02369679689894758 .................\n",
      "[CV] .. C=10.913200054186685, gamma=0.02369679689894758, total=   2.8s\n",
      "[CV] C=10.913200054186685, gamma=0.02369679689894758 .................\n",
      "[CV] .. C=10.913200054186685, gamma=0.02369679689894758, total=   2.8s\n",
      "[CV] C=10.913200054186685, gamma=0.02369679689894758 .................\n",
      "[CV] .. C=10.913200054186685, gamma=0.02369679689894758, total=   2.8s\n",
      "[CV] C=2.805821551894735, gamma=0.0029180417507981143 ................\n",
      "[CV] . C=2.805821551894735, gamma=0.0029180417507981143, total=   2.8s\n",
      "[CV] C=2.805821551894735, gamma=0.0029180417507981143 ................\n",
      "[CV] . C=2.805821551894735, gamma=0.0029180417507981143, total=   2.8s\n",
      "[CV] C=2.805821551894735, gamma=0.0029180417507981143 ................\n",
      "[CV] . C=2.805821551894735, gamma=0.0029180417507981143, total=   2.8s\n",
      "[CV] C=4.662983663823204, gamma=0.004614784533890433 .................\n",
      "[CV] .. C=4.662983663823204, gamma=0.004614784533890433, total=   2.8s\n",
      "[CV] C=4.662983663823204, gamma=0.004614784533890433 .................\n",
      "[CV] .. C=4.662983663823204, gamma=0.004614784533890433, total=   2.8s\n",
      "[CV] C=4.662983663823204, gamma=0.004614784533890433 .................\n",
      "[CV] .. C=4.662983663823204, gamma=0.004614784533890433, total=   2.8s\n",
      "[CV] C=4.354858796928117, gamma=0.0031047507523971345 ................\n",
      "[CV] . C=4.354858796928117, gamma=0.0031047507523971345, total=   2.8s\n",
      "[CV] C=4.354858796928117, gamma=0.0031047507523971345 ................\n",
      "[CV] . C=4.354858796928117, gamma=0.0031047507523971345, total=   2.8s\n",
      "[CV] C=4.354858796928117, gamma=0.0031047507523971345 ................\n",
      "[CV] . C=4.354858796928117, gamma=0.0031047507523971345, total=   2.8s\n"
     ]
    },
    {
     "name": "stderr",
     "output_type": "stream",
     "text": [
      "[Parallel(n_jobs=1)]: Done  30 out of  30 | elapsed:  1.4min finished\n"
     ]
    },
    {
     "data": {
      "text/plain": [
       "RandomizedSearchCV(cv=3,\n",
       "                   estimator=SVC(kernel='sigmoid', max_iter=50000,\n",
       "                                 random_state=42),\n",
       "                   param_distributions={'C': <scipy.stats._distn_infrastructure.rv_frozen object at 0x7fc5d989b160>,\n",
       "                                        'gamma': <scipy.stats._distn_infrastructure.rv_frozen object at 0x7fc5d98954c0>},\n",
       "                   verbose=2)"
      ]
     },
     "execution_count": 253,
     "metadata": {},
     "output_type": "execute_result"
    }
   ],
   "source": [
    "sig_search_cv = RandomizedSearchCV(svm_sig_clf, param_distributions, n_iter=10, verbose=2, cv=3)\n",
    "sig_search_cv.fit(X_train_new, y_train_new)"
   ]
  },
  {
   "cell_type": "code",
   "execution_count": 254,
   "metadata": {},
   "outputs": [
    {
     "data": {
      "text/plain": [
       "SVC(C=2.448115280243586, gamma=0.017040537081944925, kernel='sigmoid',\n",
       "    max_iter=50000, random_state=42)"
      ]
     },
     "execution_count": 254,
     "metadata": {},
     "output_type": "execute_result"
    }
   ],
   "source": [
    "sig_search_cv.best_estimator_.fit(X, y)"
   ]
  },
  {
   "cell_type": "markdown",
   "metadata": {},
   "source": [
    "SVM regression with a sigmoid kernel best hyperparameters: C=2.448115280243586, gamma=0.017040537081944925"
   ]
  },
  {
   "cell_type": "code",
   "execution_count": 261,
   "metadata": {},
   "outputs": [],
   "source": [
    "y_pred_rnd = rnd_search_cv.best_estimator_.predict(X_test)\n",
    "mse_rnd = mean_squared_error(y_test,y_pred_rnd)"
   ]
  },
  {
   "cell_type": "code",
   "execution_count": 262,
   "metadata": {},
   "outputs": [
    {
     "data": {
      "text/plain": [
       "34019753706.484013"
      ]
     },
     "execution_count": 262,
     "metadata": {},
     "output_type": "execute_result"
    }
   ],
   "source": [
    "mse_rnd"
   ]
  },
  {
   "cell_type": "code",
   "execution_count": 266,
   "metadata": {},
   "outputs": [],
   "source": [
    "y_pred_sig = sig_search_cv.best_estimator_.predict(X_test)\n",
    "mse_sig = mean_squared_error(y_test,y_pred_sig)"
   ]
  },
  {
   "cell_type": "code",
   "execution_count": 265,
   "metadata": {},
   "outputs": [
    {
     "data": {
      "text/plain": [
       "34019753706.484013"
      ]
     },
     "execution_count": 265,
     "metadata": {},
     "output_type": "execute_result"
    }
   ],
   "source": [
    "mse_sig"
   ]
  },
  {
   "cell_type": "markdown",
   "metadata": {},
   "source": [
    "The RBF kernel with best hyperparameters got MSE = 34019753706.484013 and sigmoid kernel got MSE = 34019753706.484013."
   ]
  },
  {
   "cell_type": "markdown",
   "metadata": {},
   "source": [
    "## (e) [2 marks]\n",
    "\n",
    "**Task:** Choose the best model in (d). Then for this model, evaluate the RMSE on the test set, which is stored in `X_test` and `y_test`."
   ]
  },
  {
   "cell_type": "markdown",
   "metadata": {},
   "source": [
    "**[Add your solution here]**"
   ]
  },
  {
   "cell_type": "markdown",
   "metadata": {},
   "source": [
    "we choose sigmoid kernel since it has smaller MSE. "
   ]
  },
  {
   "cell_type": "code",
   "execution_count": null,
   "metadata": {},
   "outputs": [],
   "source": [
    "from sklearn.metrics import mean_squared_error\n",
    "\n",
    "y_pred = sig_search_cv.predict(X_test)\n",
    "RMSE = np.sqrt(mean_squared_error(y_test,y_pred))"
   ]
  },
  {
   "cell_type": "markdown",
   "metadata": {},
   "source": [
    "The RMSE of sigmoid kernel is 114752.8087714515"
   ]
  },
  {
   "cell_type": "markdown",
   "metadata": {},
   "source": [
    "# 3. Voting Classifiers [8 marks]\n",
    "## (a)  [4 marks]\n",
    "\n",
    "Consider the MNIST dataset. To save computational time, split it into a smaller training set (the first 5000 observations) and a validation set (the next 1000 observations) as given by the following code."
   ]
  },
  {
   "cell_type": "code",
   "execution_count": 286,
   "metadata": {},
   "outputs": [],
   "source": [
    "N = 5000\n",
    "M = 6000\n",
    "X_train = mnist[\"data\"][:N]\n",
    "X_val  = mnist[\"data\"][N:M]\n",
    "y_train = mnist[\"target\"][:N]\n",
    "y_val = mnist[\"target\"][N:M]"
   ]
  },
  {
   "cell_type": "markdown",
   "metadata": {},
   "source": [
    "Do not shuffle the data and do not use a standard scaler. Train the following classifiers on the training set:\n",
    "\n",
    "(i) a random forest classifier with arguments `n_estimators=100, n_jobs=-1, random_state=42`,\n",
    "\n",
    "(ii) an extra-trees classifier with arguments `n_estimators=100, n_jobs=-1, random_state=42`,\n",
    "\n",
    "(iii) an AdaBoost classifier `n_estimators=50, learning_rate=0.2, random_state=42`,\n",
    "\n",
    "(iv) a gradient boosting classifier using the class `GradientBoostingClassifier()` with arguments `max_depth=2, n_estimators=10, learning_rate=0.25, random_state=42`.\n",
    "\n",
    "Report the accuracy of each trained classifier on the validation set."
   ]
  },
  {
   "cell_type": "markdown",
   "metadata": {},
   "source": [
    "**[Add your solution here]**"
   ]
  },
  {
   "cell_type": "code",
   "execution_count": 287,
   "metadata": {},
   "outputs": [
    {
     "data": {
      "text/plain": [
       "GradientBoostingClassifier(learning_rate=0.25, max_depth=2, n_estimators=10,\n",
       "                           random_state=42)"
      ]
     },
     "execution_count": 287,
     "metadata": {},
     "output_type": "execute_result"
    }
   ],
   "source": [
    "#i\n",
    "from sklearn.ensemble import RandomForestClassifier\n",
    "rnd_clf = RandomForestClassifier(n_estimators=100, n_jobs=-1, random_state=42)\n",
    "rnd_clf.fit(X_train,y_train)\n",
    "\n",
    "#ii\n",
    "from sklearn.ensemble import ExtraTreesClassifier\n",
    "ext_clf = ExtraTreesClassifier(n_estimators=100, n_jobs=-1, random_state=42)\n",
    "ext_clf.fit(X_train,y_train)\n",
    "#iii\n",
    "from sklearn.ensemble import AdaBoostClassifier\n",
    "ada_clf = AdaBoostClassifier(n_estimators=50, learning_rate=0.2, random_state=42)\n",
    "ada_clf.fit(X_train,y_train)\n",
    "#iv\n",
    "from sklearn.ensemble import GradientBoostingClassifier\n",
    "gb_clf = GradientBoostingClassifier(max_depth=2, n_estimators=10, learning_rate=0.25, random_state=42)\n",
    "gb_clf.fit(X_train,y_train)"
   ]
  },
  {
   "cell_type": "code",
   "execution_count": 288,
   "metadata": {},
   "outputs": [
    {
     "data": {
      "text/plain": [
       "0.939"
      ]
     },
     "execution_count": 288,
     "metadata": {},
     "output_type": "execute_result"
    }
   ],
   "source": [
    "from sklearn.metrics import accuracy_score\n",
    "y_pred_rnd = rnd_clf.predict(X_val)\n",
    "accuracy_score(y_val, y_pred_rnd)"
   ]
  },
  {
   "cell_type": "markdown",
   "metadata": {},
   "source": [
    "The accuracy of random forest classifier on the validation set is 0.939."
   ]
  },
  {
   "cell_type": "code",
   "execution_count": 289,
   "metadata": {},
   "outputs": [
    {
     "data": {
      "text/plain": [
       "0.947"
      ]
     },
     "execution_count": 289,
     "metadata": {},
     "output_type": "execute_result"
    }
   ],
   "source": [
    "y_pred_ext = ext_clf.predict(X_val)\n",
    "accuracy_score(y_val, y_pred_ext)"
   ]
  },
  {
   "cell_type": "markdown",
   "metadata": {},
   "source": [
    "The accuracy of extra-trees classifier on the validation set is 0.947."
   ]
  },
  {
   "cell_type": "code",
   "execution_count": 290,
   "metadata": {},
   "outputs": [
    {
     "data": {
      "text/plain": [
       "0.736"
      ]
     },
     "execution_count": 290,
     "metadata": {},
     "output_type": "execute_result"
    }
   ],
   "source": [
    "y_pred_ada = ada_clf.predict(X_val)\n",
    "accuracy_score(y_val, y_pred_ada)"
   ]
  },
  {
   "cell_type": "markdown",
   "metadata": {},
   "source": [
    "The accuracy of AdaBoost classifier on the validation set is 0.736."
   ]
  },
  {
   "cell_type": "code",
   "execution_count": 291,
   "metadata": {},
   "outputs": [
    {
     "data": {
      "text/plain": [
       "0.834"
      ]
     },
     "execution_count": 291,
     "metadata": {},
     "output_type": "execute_result"
    }
   ],
   "source": [
    "y_pred_gb = gb_clf.predict(X_val)\n",
    "accuracy_score(y_val, y_pred_gb)"
   ]
  },
  {
   "cell_type": "markdown",
   "metadata": {},
   "source": [
    "The accuracy of gradient boosting classifier on the validation set is 0.834."
   ]
  },
  {
   "cell_type": "markdown",
   "metadata": {},
   "source": [
    "## (b)  [4 marks]\n",
    "Train a hard-voting and a soft-voting ensemble classifier based on the models in (a). Evaluate each voting classifier on the validation set. Comment on whether the performance of the ensemble model is better or worse than the individual models in (a) and why that is the case."
   ]
  },
  {
   "cell_type": "markdown",
   "metadata": {},
   "source": [
    "**[Add your solution here]**"
   ]
  },
  {
   "cell_type": "code",
   "execution_count": 292,
   "metadata": {},
   "outputs": [
    {
     "data": {
      "text/plain": [
       "VotingClassifier(estimators=[('rf',\n",
       "                              RandomForestClassifier(n_jobs=-1,\n",
       "                                                     random_state=42)),\n",
       "                             ('et',\n",
       "                              ExtraTreesClassifier(n_jobs=-1, random_state=42)),\n",
       "                             ('ab',\n",
       "                              AdaBoostClassifier(learning_rate=0.2,\n",
       "                                                 random_state=42)),\n",
       "                             ('gb',\n",
       "                              GradientBoostingClassifier(learning_rate=0.25,\n",
       "                                                         max_depth=2,\n",
       "                                                         n_estimators=10,\n",
       "                                                         random_state=42))])"
      ]
     },
     "execution_count": 292,
     "metadata": {},
     "output_type": "execute_result"
    }
   ],
   "source": [
    "from sklearn.ensemble import VotingClassifier\n",
    "eclf_hard = VotingClassifier(estimators=[('rf',rnd_clf), ('et',ext_clf),('ab',ada_clf),('gb',gb_clf)]\n",
    "                             , voting='hard')\n",
    "eclf_hard.fit(X_train,y_train)"
   ]
  },
  {
   "cell_type": "code",
   "execution_count": 293,
   "metadata": {},
   "outputs": [
    {
     "data": {
      "text/plain": [
       "0.923"
      ]
     },
     "execution_count": 293,
     "metadata": {},
     "output_type": "execute_result"
    }
   ],
   "source": [
    "y_pred_hard = eclf_hard.predict(X_val)\n",
    "accuracy_score(y_val, y_pred_hard)"
   ]
  },
  {
   "cell_type": "code",
   "execution_count": 294,
   "metadata": {},
   "outputs": [
    {
     "data": {
      "text/plain": [
       "VotingClassifier(estimators=[('rf',\n",
       "                              RandomForestClassifier(n_jobs=-1,\n",
       "                                                     random_state=42)),\n",
       "                             ('et',\n",
       "                              ExtraTreesClassifier(n_jobs=-1, random_state=42)),\n",
       "                             ('ab',\n",
       "                              AdaBoostClassifier(learning_rate=0.2,\n",
       "                                                 random_state=42)),\n",
       "                             ('gb',\n",
       "                              GradientBoostingClassifier(learning_rate=0.25,\n",
       "                                                         max_depth=2,\n",
       "                                                         n_estimators=10,\n",
       "                                                         random_state=42))],\n",
       "                 voting='soft')"
      ]
     },
     "execution_count": 294,
     "metadata": {},
     "output_type": "execute_result"
    }
   ],
   "source": [
    "from sklearn.ensemble import VotingClassifier\n",
    "eclf_soft = VotingClassifier(estimators=[('rf',rnd_clf), ('et',ext_clf),('ab',ada_clf),('gb',gb_clf)]\n",
    "                             , voting='soft')\n",
    "eclf_soft.fit(X_train,y_train)"
   ]
  },
  {
   "cell_type": "code",
   "execution_count": 295,
   "metadata": {},
   "outputs": [
    {
     "data": {
      "text/plain": [
       "0.926"
      ]
     },
     "execution_count": 295,
     "metadata": {},
     "output_type": "execute_result"
    }
   ],
   "source": [
    "y_pred_soft = eclf_soft.predict(X_val)\n",
    "accuracy_score(y_val, y_pred_soft)"
   ]
  },
  {
   "cell_type": "markdown",
   "metadata": {},
   "source": [
    "The hard voting classifier has 0.923 accuracy and soft voting classifier has 0.926 accuracy.\n",
    "The hard voting and soft voting classifier accuracy worse than RandomForestClassifier and ExtraTreesClassifier, but voting classifier perform better than AdaBoostClassifier and GradientBoostingClassifier."
   ]
  },
  {
   "cell_type": "markdown",
   "metadata": {},
   "source": [
    "# 4. Stacking [9 marks]\n",
    "\n",
    "We continue with the setting of Question 3. The training set, validation set and test set are the same. In Question 3, we have used predetermined rules (that is, hard-voting and soft-voting) to build the ensemble prediction. **Stacking** is an ensemble method in which you train a model (called a **blender**) to aggregate the result of each predictor into an ensemble prediction.\n",
    "\n",
    "Hint: Reading the subsection \"Stacking\" in Chapter 7 of the textbook and the solution to Question 9 in the Chapter 7 [Jupyter notebook](https://github.com/ageron/handson-ml2/blob/master/07_ensemble_learning_and_random_forests.ipynb) on the textbook website may help with this question.\n",
    "\n",
    "## (a)  [3 marks]\n",
    "\n",
    "For each of the four classifiers in Question 3(a), make 5000 clean predictions on the training set with 3-fold cross validation using `sklearn.model_selection.cross_val_predict()`. You should end up with four predictions per observation. Print at least the first 5 rows of `pred`. Next, apply one-hot encoding to `pred` since these predictions are class labels."
   ]
  },
  {
   "cell_type": "markdown",
   "metadata": {},
   "source": [
    "**[Add your solution here]**"
   ]
  },
  {
   "cell_type": "code",
   "execution_count": 296,
   "metadata": {},
   "outputs": [],
   "source": [
    "from sklearn.model_selection import cross_val_predict\n",
    "y_train_pred_rf = cross_val_predict(rnd_clf,X_train, y_train, cv=3)\n",
    "\n",
    "y_train_pred_et = cross_val_predict(ext_clf,X_train, y_train, cv=3)\n",
    "\n",
    "y_train_pred_ab = cross_val_predict(ada_clf,X_train, y_train, cv=3)\n",
    "\n",
    "y_train_pred_gb = cross_val_predict(gb_clf,X_train, y_train, cv=3)"
   ]
  },
  {
   "cell_type": "code",
   "execution_count": 297,
   "metadata": {},
   "outputs": [
    {
     "data": {
      "text/plain": [
       "[[5, 5, 3, 3], [0, 0, 5, 0], [4, 4, 4, 4], [1, 1, 1, 1], [9, 9, 9, 9]]"
      ]
     },
     "execution_count": 297,
     "metadata": {},
     "output_type": "execute_result"
    }
   ],
   "source": [
    "pred = []\n",
    "for k in range(5000):   \n",
    "    pred.append([])\n",
    "    pred[k].append(y_train_pred_rf[k])\n",
    "    pred[k].append(y_train_pred_et[k])\n",
    "    pred[k].append(y_train_pred_ab[k])\n",
    "    pred[k].append(y_train_pred_gb[k])\n",
    "pred[:5] "
   ]
  },
  {
   "cell_type": "code",
   "execution_count": 298,
   "metadata": {},
   "outputs": [],
   "source": [
    "from sklearn.preprocessing import OneHotEncoder\n",
    "onehot = OneHotEncoder()\n",
    "pred = onehot.fit_transform(pred)"
   ]
  },
  {
   "cell_type": "code",
   "execution_count": 299,
   "metadata": {},
   "outputs": [
    {
     "name": "stdout",
     "output_type": "stream",
     "text": [
      "  (0, 5)\t1.0\n",
      "  (0, 15)\t1.0\n",
      "  (0, 23)\t1.0\n",
      "  (0, 33)\t1.0\n",
      "  (1, 0)\t1.0\n",
      "  (1, 10)\t1.0\n",
      "  (1, 25)\t1.0\n",
      "  (1, 30)\t1.0\n",
      "  (2, 4)\t1.0\n",
      "  (2, 14)\t1.0\n",
      "  (2, 24)\t1.0\n",
      "  (2, 34)\t1.0\n",
      "  (3, 1)\t1.0\n",
      "  (3, 11)\t1.0\n",
      "  (3, 21)\t1.0\n",
      "  (3, 31)\t1.0\n",
      "  (4, 9)\t1.0\n",
      "  (4, 19)\t1.0\n",
      "  (4, 29)\t1.0\n",
      "  (4, 39)\t1.0\n"
     ]
    }
   ],
   "source": [
    "print(pred[:5])"
   ]
  },
  {
   "cell_type": "markdown",
   "metadata": {},
   "source": [
    "## (b) [3 marks]\n",
    "Use the predictions in (a) as features and the actual label of the observations as the target. Train a random forest classifier on the training set with the parameters `n_estimators=100, random_state=42`.  This classifier is a blender. "
   ]
  },
  {
   "cell_type": "markdown",
   "metadata": {},
   "source": [
    "**[Add your solution here]**"
   ]
  },
  {
   "cell_type": "code",
   "execution_count": 300,
   "metadata": {},
   "outputs": [
    {
     "data": {
      "text/plain": [
       "0.9268"
      ]
     },
     "execution_count": 300,
     "metadata": {},
     "output_type": "execute_result"
    }
   ],
   "source": [
    "rf = RandomForestClassifier(n_estimators=100, oob_score=True, random_state=42)\n",
    "blender = rf.fit(pred,y_train)\n",
    "blender.oob_score_"
   ]
  },
  {
   "cell_type": "markdown",
   "metadata": {},
   "source": [
    "## (c) [3 marks]\n",
    "\n",
    "Obtain the predictions of the blender on the validation set by feeding predictions on the validation set from the four classifiers in Question 3(a) into the blender trained in Question 4(b). Do not retrain the blender. These are called stacking predictions. Report the accuracy of your stacking predictions on the validation set and compare this to the results in Question 3(b)."
   ]
  },
  {
   "cell_type": "markdown",
   "metadata": {},
   "source": [
    "**[Add your solution here]**"
   ]
  },
  {
   "cell_type": "code",
   "execution_count": 301,
   "metadata": {},
   "outputs": [],
   "source": [
    "rnd_clf.fit(X_train,y_train)\n",
    "rnd_pred = rnd_clf.predict(X_val)\n",
    "\n",
    "ext_clf.fit(X_train,y_train)\n",
    "et_pred = ext_clf.predict(X_val)\n",
    "\n",
    "ada_clf.fit(X_train,y_train)\n",
    "ab_pred = ada_clf.predict(X_val)\n",
    "\n",
    "gb_clf.fit(X_train,y_train)\n",
    "gb_pred = gb_clf.predict(X_val)"
   ]
  },
  {
   "cell_type": "code",
   "execution_count": 302,
   "metadata": {},
   "outputs": [],
   "source": [
    "pred_c = []\n",
    "for k in range(1000):   \n",
    "    pred_c.append([])\n",
    "    pred_c[k].append(rnd_pred[k])\n",
    "    pred_c[k].append(et_pred[k])\n",
    "    pred_c[k].append(ab_pred[k])\n",
    "    pred_c[k].append(gb_pred[k])"
   ]
  },
  {
   "cell_type": "code",
   "execution_count": 303,
   "metadata": {},
   "outputs": [
    {
     "data": {
      "text/plain": [
       "[[7, 7, 7, 7], [3, 3, 3, 3], [4, 4, 9, 9], [6, 6, 6, 6], [1, 1, 1, 1]]"
      ]
     },
     "execution_count": 303,
     "metadata": {},
     "output_type": "execute_result"
    }
   ],
   "source": [
    "pred_c[:5]"
   ]
  },
  {
   "cell_type": "code",
   "execution_count": 304,
   "metadata": {},
   "outputs": [
    {
     "name": "stdout",
     "output_type": "stream",
     "text": [
      "0.947\n"
     ]
    }
   ],
   "source": [
    "my_pred = onehot.fit_transform(pred_c)\n",
    "pred = blender.predict(my_pred)\n",
    "accuracy = accuracy_score(y_val,pred)\n",
    "print(accuracy)"
   ]
  },
  {
   "cell_type": "markdown",
   "metadata": {},
   "source": [
    "The accuracy of your stacking predictions on the validation set is 0.947. It is litte bit better than the result in question 3b."
   ]
  }
 ],
 "metadata": {
  "hide_input": false,
  "kernelspec": {
   "display_name": "Python 3",
   "language": "python",
   "name": "python3"
  },
  "language_info": {
   "codemirror_mode": {
    "name": "ipython",
    "version": 3
   },
   "file_extension": ".py",
   "mimetype": "text/x-python",
   "name": "python",
   "nbconvert_exporter": "python",
   "pygments_lexer": "ipython3",
   "version": "3.8.5"
  },
  "latex_envs": {
   "LaTeX_envs_menu_present": true,
   "autoclose": false,
   "autocomplete": false,
   "bibliofile": "biblio.bib",
   "cite_by": "apalike",
   "current_citInitial": 1,
   "eqLabelWithNumbers": true,
   "eqNumInitial": 1,
   "hotkeys": {
    "equation": "Ctrl-E",
    "itemize": "Ctrl-I"
   },
   "labels_anchors": false,
   "latex_user_defs": false,
   "report_style_numbering": false,
   "user_envs_cfg": false
  },
  "toc": {
   "base_numbering": 1,
   "nav_menu": {},
   "number_sections": false,
   "sideBar": true,
   "skip_h1_title": false,
   "title_cell": "Table of Contents",
   "title_sidebar": "Contents",
   "toc_cell": false,
   "toc_position": {},
   "toc_section_display": true,
   "toc_window_display": false
  },
  "varInspector": {
   "cols": {
    "lenName": 16,
    "lenType": 16,
    "lenVar": 40
   },
   "kernels_config": {
    "python": {
     "delete_cmd_postfix": "",
     "delete_cmd_prefix": "del ",
     "library": "var_list.py",
     "varRefreshCmd": "print(var_dic_list())"
    },
    "r": {
     "delete_cmd_postfix": ") ",
     "delete_cmd_prefix": "rm(",
     "library": "var_list.r",
     "varRefreshCmd": "cat(var_dic_list()) "
    }
   },
   "types_to_exclude": [
    "module",
    "function",
    "builtin_function_or_method",
    "instance",
    "_Feature"
   ],
   "window_display": false
  }
 },
 "nbformat": 4,
 "nbformat_minor": 2
}
